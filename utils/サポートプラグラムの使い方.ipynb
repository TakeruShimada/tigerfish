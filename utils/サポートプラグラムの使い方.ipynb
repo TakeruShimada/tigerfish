{
  "nbformat": 4,
  "nbformat_minor": 0,
  "metadata": {
    "colab": {
      "name": "サポートプラグラムの使い方",
      "provenance": [],
      "authorship_tag": "ABX9TyOGqmZCniDbiykDxoMifdSM",
      "include_colab_link": true
    },
    "kernelspec": {
      "name": "python3",
      "display_name": "Python 3"
    }
  },
  "cells": [
    {
      "cell_type": "markdown",
      "metadata": {
        "id": "view-in-github",
        "colab_type": "text"
      },
      "source": [
        "<a href=\"https://colab.research.google.com/github/Minami5/tigerfish/blob/master/utils/%E3%82%B5%E3%83%9D%E3%83%BC%E3%83%88%E3%83%97%E3%83%A9%E3%82%B0%E3%83%A9%E3%83%A0%E3%81%AE%E4%BD%BF%E3%81%84%E6%96%B9.ipynb\" target=\"_parent\"><img src=\"https://colab.research.google.com/assets/colab-badge.svg\" alt=\"Open In Colab\"/></a>"
      ]
    },
    {
      "cell_type": "code",
      "metadata": {
        "colab": {
          "base_uri": "https://localhost:8080/"
        },
        "id": "YN09Vpc1Mwue",
        "outputId": "e4e07c2e-526a-4343-e55a-166a39fd2b4d"
      },
      "source": [
        "!curl -O https://raw.githubusercontent.com/Minami5/tigerfish/master/utils/support.py"
      ],
      "execution_count": 5,
      "outputs": [
        {
          "output_type": "stream",
          "text": [
            "  % Total    % Received % Xferd  Average Speed   Time    Time     Time  Current\n",
            "                                 Dload  Upload   Total   Spent    Left  Speed\n",
            "100   618  100   618    0     0   1507      0 --:--:-- --:--:-- --:--:--  1503\n"
          ],
          "name": "stdout"
        }
      ]
    },
    {
      "cell_type": "code",
      "metadata": {
        "id": "aonzvFe1Nyln"
      },
      "source": [
        "import numpy as np\n",
        "\n",
        "import support"
      ],
      "execution_count": 6,
      "outputs": []
    },
    {
      "cell_type": "code",
      "metadata": {
        "colab": {
          "base_uri": "https://localhost:8080/"
        },
        "id": "Y0hWqg5uN4Es",
        "outputId": "4da56eac-9309-44ba-e124-10d46946b404"
      },
      "source": [
        "(x_train, y_train), x_test = support.fetch_titanic()\n",
        "\n",
        "# 前処理をする\n",
        "preds = np.random.randint(0, 1, (x_test.values.shape[0], ))\n",
        "print(support.calc_score(preds))"
      ],
      "execution_count": 8,
      "outputs": [
        {
          "output_type": "stream",
          "text": [
            "0.6268656716417911\n"
          ],
          "name": "stdout"
        }
      ]
    },
    {
      "cell_type": "code",
      "metadata": {
        "id": "Nx0cAnADN8es"
      },
      "source": [
        ""
      ],
      "execution_count": null,
      "outputs": []
    }
  ]
}