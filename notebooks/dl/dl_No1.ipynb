{
  "nbformat": 4,
  "nbformat_minor": 0,
  "metadata": {
    "colab": {
      "name": "DL _No1.ipynb",
      "provenance": [],
      "toc_visible": true,
      "authorship_tag": "ABX9TyNzcTyvwIc23TAggeFlLSbN",
      "include_colab_link": true
    },
    "kernelspec": {
      "name": "python3",
      "display_name": "Python 3"
    },
    "widgets": {
      "application/vnd.jupyter.widget-state+json": {
        "ffcae60b7ae64ab5aa81378e187f423d": {
          "model_module": "@jupyter-widgets/controls",
          "model_name": "HBoxModel",
          "state": {
            "_view_name": "HBoxView",
            "_dom_classes": [],
            "_model_name": "HBoxModel",
            "_view_module": "@jupyter-widgets/controls",
            "_model_module_version": "1.5.0",
            "_view_count": null,
            "_view_module_version": "1.5.0",
            "box_style": "",
            "layout": "IPY_MODEL_964bf8c98ab446f8ac390f487d894acf",
            "_model_module": "@jupyter-widgets/controls",
            "children": [
              "IPY_MODEL_f14d499744c348db916401991844a9ef",
              "IPY_MODEL_20e77e73b65a4f31a4878ec3c9924768"
            ]
          }
        },
        "964bf8c98ab446f8ac390f487d894acf": {
          "model_module": "@jupyter-widgets/base",
          "model_name": "LayoutModel",
          "state": {
            "_view_name": "LayoutView",
            "grid_template_rows": null,
            "right": null,
            "justify_content": null,
            "_view_module": "@jupyter-widgets/base",
            "overflow": null,
            "_model_module_version": "1.2.0",
            "_view_count": null,
            "flex_flow": null,
            "width": null,
            "min_width": null,
            "border": null,
            "align_items": null,
            "bottom": null,
            "_model_module": "@jupyter-widgets/base",
            "top": null,
            "grid_column": null,
            "overflow_y": null,
            "overflow_x": null,
            "grid_auto_flow": null,
            "grid_area": null,
            "grid_template_columns": null,
            "flex": null,
            "_model_name": "LayoutModel",
            "justify_items": null,
            "grid_row": null,
            "max_height": null,
            "align_content": null,
            "visibility": null,
            "align_self": null,
            "height": null,
            "min_height": null,
            "padding": null,
            "grid_auto_rows": null,
            "grid_gap": null,
            "max_width": null,
            "order": null,
            "_view_module_version": "1.2.0",
            "grid_template_areas": null,
            "object_position": null,
            "object_fit": null,
            "grid_auto_columns": null,
            "margin": null,
            "display": null,
            "left": null
          }
        },
        "f14d499744c348db916401991844a9ef": {
          "model_module": "@jupyter-widgets/controls",
          "model_name": "FloatProgressModel",
          "state": {
            "_view_name": "ProgressView",
            "style": "IPY_MODEL_62d3acea092745039c6fce0159a1ede2",
            "_dom_classes": [],
            "description": "100%",
            "_model_name": "FloatProgressModel",
            "bar_style": "success",
            "max": 100,
            "_view_module": "@jupyter-widgets/controls",
            "_model_module_version": "1.5.0",
            "value": 100,
            "_view_count": null,
            "_view_module_version": "1.5.0",
            "orientation": "horizontal",
            "min": 0,
            "description_tooltip": null,
            "_model_module": "@jupyter-widgets/controls",
            "layout": "IPY_MODEL_23ef19f170954da29d1f0799e650037c"
          }
        },
        "20e77e73b65a4f31a4878ec3c9924768": {
          "model_module": "@jupyter-widgets/controls",
          "model_name": "HTMLModel",
          "state": {
            "_view_name": "HTMLView",
            "style": "IPY_MODEL_f1a4dc7b832e4093a7cc516abc501041",
            "_dom_classes": [],
            "description": "",
            "_model_name": "HTMLModel",
            "placeholder": "​",
            "_view_module": "@jupyter-widgets/controls",
            "_model_module_version": "1.5.0",
            "value": " 100/100 [00:00&lt;00:00, 150.01it/s]",
            "_view_count": null,
            "_view_module_version": "1.5.0",
            "description_tooltip": null,
            "_model_module": "@jupyter-widgets/controls",
            "layout": "IPY_MODEL_fdfeca566f604729829fd295840c213b"
          }
        },
        "62d3acea092745039c6fce0159a1ede2": {
          "model_module": "@jupyter-widgets/controls",
          "model_name": "ProgressStyleModel",
          "state": {
            "_view_name": "StyleView",
            "_model_name": "ProgressStyleModel",
            "description_width": "initial",
            "_view_module": "@jupyter-widgets/base",
            "_model_module_version": "1.5.0",
            "_view_count": null,
            "_view_module_version": "1.2.0",
            "bar_color": null,
            "_model_module": "@jupyter-widgets/controls"
          }
        },
        "23ef19f170954da29d1f0799e650037c": {
          "model_module": "@jupyter-widgets/base",
          "model_name": "LayoutModel",
          "state": {
            "_view_name": "LayoutView",
            "grid_template_rows": null,
            "right": null,
            "justify_content": null,
            "_view_module": "@jupyter-widgets/base",
            "overflow": null,
            "_model_module_version": "1.2.0",
            "_view_count": null,
            "flex_flow": null,
            "width": null,
            "min_width": null,
            "border": null,
            "align_items": null,
            "bottom": null,
            "_model_module": "@jupyter-widgets/base",
            "top": null,
            "grid_column": null,
            "overflow_y": null,
            "overflow_x": null,
            "grid_auto_flow": null,
            "grid_area": null,
            "grid_template_columns": null,
            "flex": null,
            "_model_name": "LayoutModel",
            "justify_items": null,
            "grid_row": null,
            "max_height": null,
            "align_content": null,
            "visibility": null,
            "align_self": null,
            "height": null,
            "min_height": null,
            "padding": null,
            "grid_auto_rows": null,
            "grid_gap": null,
            "max_width": null,
            "order": null,
            "_view_module_version": "1.2.0",
            "grid_template_areas": null,
            "object_position": null,
            "object_fit": null,
            "grid_auto_columns": null,
            "margin": null,
            "display": null,
            "left": null
          }
        },
        "f1a4dc7b832e4093a7cc516abc501041": {
          "model_module": "@jupyter-widgets/controls",
          "model_name": "DescriptionStyleModel",
          "state": {
            "_view_name": "StyleView",
            "_model_name": "DescriptionStyleModel",
            "description_width": "",
            "_view_module": "@jupyter-widgets/base",
            "_model_module_version": "1.5.0",
            "_view_count": null,
            "_view_module_version": "1.2.0",
            "_model_module": "@jupyter-widgets/controls"
          }
        },
        "fdfeca566f604729829fd295840c213b": {
          "model_module": "@jupyter-widgets/base",
          "model_name": "LayoutModel",
          "state": {
            "_view_name": "LayoutView",
            "grid_template_rows": null,
            "right": null,
            "justify_content": null,
            "_view_module": "@jupyter-widgets/base",
            "overflow": null,
            "_model_module_version": "1.2.0",
            "_view_count": null,
            "flex_flow": null,
            "width": null,
            "min_width": null,
            "border": null,
            "align_items": null,
            "bottom": null,
            "_model_module": "@jupyter-widgets/base",
            "top": null,
            "grid_column": null,
            "overflow_y": null,
            "overflow_x": null,
            "grid_auto_flow": null,
            "grid_area": null,
            "grid_template_columns": null,
            "flex": null,
            "_model_name": "LayoutModel",
            "justify_items": null,
            "grid_row": null,
            "max_height": null,
            "align_content": null,
            "visibility": null,
            "align_self": null,
            "height": null,
            "min_height": null,
            "padding": null,
            "grid_auto_rows": null,
            "grid_gap": null,
            "max_width": null,
            "order": null,
            "_view_module_version": "1.2.0",
            "grid_template_areas": null,
            "object_position": null,
            "object_fit": null,
            "grid_auto_columns": null,
            "margin": null,
            "display": null,
            "left": null
          }
        }
      }
    }
  },
  "cells": [
    {
      "cell_type": "markdown",
      "metadata": {
        "id": "view-in-github",
        "colab_type": "text"
      },
      "source": [
        "<a href=\"https://colab.research.google.com/github/TakeruShimada/tigerfish/blob/master/notebooks/dl/dl_No1.ipynb\" target=\"_parent\"><img src=\"https://colab.research.google.com/assets/colab-badge.svg\" alt=\"Open In Colab\"/></a>"
      ]
    },
    {
      "cell_type": "markdown",
      "metadata": {
        "id": "B6U_sk3C_rY2"
      },
      "source": [
        "#論理ゲートの実装"
      ]
    },
    {
      "cell_type": "markdown",
      "metadata": {
        "id": "oZxMAZKE4hqU"
      },
      "source": [
        "##AND"
      ]
    },
    {
      "cell_type": "code",
      "metadata": {
        "id": "JczQ2LAoAhsV"
      },
      "source": [
        "import numpy as np"
      ],
      "execution_count": 21,
      "outputs": []
    },
    {
      "cell_type": "code",
      "metadata": {
        "id": "Ul6QFa9W17wj"
      },
      "source": [
        "# ANDゲート\n",
        "def AND(x1, x2):\n",
        "    x = np.array([x1, x2])\n",
        "    w = np.array([0.5, 0.5])\n",
        "    b = -0.7\n",
        "    tmp = np.sum(w * x) + b\n",
        "    if tmp <= 0:\n",
        "        return 0\n",
        "    else:\n",
        "        return 1"
      ],
      "execution_count": 22,
      "outputs": []
    },
    {
      "cell_type": "code",
      "metadata": {
        "colab": {
          "base_uri": "https://localhost:8080/"
        },
        "id": "zBk3CSM62eAL",
        "outputId": "4f18c39a-3681-4668-97b5-aa7d97e35c79"
      },
      "source": [
        "# ANDゲートの出力確認\n",
        "print(AND(0, 0))\n",
        "print(AND(1, 0))\n",
        "print(AND(0, 1))\n",
        "print(AND(1, 1))"
      ],
      "execution_count": 23,
      "outputs": [
        {
          "output_type": "stream",
          "text": [
            "0\n",
            "0\n",
            "0\n",
            "1\n"
          ],
          "name": "stdout"
        }
      ]
    },
    {
      "cell_type": "markdown",
      "metadata": {
        "id": "Nx6IEbCzAlbk"
      },
      "source": [
        "##NAND"
      ]
    },
    {
      "cell_type": "code",
      "metadata": {
        "id": "fj6pEisQ_1bt"
      },
      "source": [
        "# NANDゲート\n",
        "def NAND(x1, x2):\n",
        "    x = np.array([x1, x2])\n",
        "    w = np.array([-0.5, -0.5])\n",
        "    b = 0.7\n",
        "    tmp = np.sum(w * x) + b\n",
        "    if tmp <= 0:\n",
        "        return 0\n",
        "    else:\n",
        "        return 1"
      ],
      "execution_count": 24,
      "outputs": []
    },
    {
      "cell_type": "markdown",
      "metadata": {
        "id": "rD36aSuVA2IX"
      },
      "source": [
        "##OR"
      ]
    },
    {
      "cell_type": "code",
      "metadata": {
        "id": "8zSwpF-9AxRw"
      },
      "source": [
        "# ORゲート\n",
        "def OR(x1, x2):\n",
        "    x = np.array([x1, x2])\n",
        "    w = np.array([0.5, 0.5])\n",
        "    b = -0.2\n",
        "    tmp = np.sum(w*x) + b\n",
        "    if tmp <= 0:\n",
        "        return 0\n",
        "    else:\n",
        "        return 1"
      ],
      "execution_count": 25,
      "outputs": []
    },
    {
      "cell_type": "markdown",
      "metadata": {
        "id": "5aJVqBzlA-cH"
      },
      "source": [
        "##XOR"
      ]
    },
    {
      "cell_type": "code",
      "metadata": {
        "id": "vNUSLXhtA4Yb"
      },
      "source": [
        "# XORゲート\n",
        "def XOR(x1, x2):\n",
        "    s1 = NAND(x1, x2)\n",
        "    s2 = OR(x1, x2)\n",
        "    y = AND(s1, s2)\n",
        "    return y"
      ],
      "execution_count": 26,
      "outputs": []
    },
    {
      "cell_type": "markdown",
      "metadata": {
        "id": "B9Zp51mi4pAd"
      },
      "source": [
        "#IrisDatasetを使ってみる"
      ]
    },
    {
      "cell_type": "markdown",
      "metadata": {
        "id": "nDw1f6CUDj2X"
      },
      "source": [
        "##ライブラリのインポート"
      ]
    },
    {
      "cell_type": "code",
      "metadata": {
        "id": "6P8PlO1SBlld"
      },
      "source": [
        "import torch\n",
        "import torch.nn as nn\n",
        "import torch.optim as optim\n",
        "from torch.utils.data import Dataset, DataLoader\n",
        "from sklearn.datasets import load_iris\n",
        "from sklearn.model_selection import train_test_split\n",
        "from tqdm.auto import tqdm"
      ],
      "execution_count": 27,
      "outputs": []
    },
    {
      "cell_type": "markdown",
      "metadata": {
        "id": "glDsd2Y2C-FZ"
      },
      "source": [
        "##データセットのロード"
      ]
    },
    {
      "cell_type": "code",
      "metadata": {
        "id": "DRQYk0rOB0vg"
      },
      "source": [
        "# データをロード\n",
        "iris = load_iris()\n",
        "# 訓練用データとテスト用データを分割\n",
        "x_train, x_test, y_train, y_test = train_test_split(iris[\"data\"], iris[\"target\"])\n",
        "\n",
        "# 訓練用データ\n",
        "x_train = torch.tensor(x_train, dtype=torch.float32)\n",
        "y_train = torch.tensor(y_train, dtype=torch.int64)  # pytorchの仕様で出力の型はint64にする\n",
        "\n",
        "# テスト用データ\n",
        "x_test = torch.tensor(x_test, dtype=torch.float32)\n",
        "y_test = torch.tensor(y_test, dtype=torch.int64)  # pytorchの仕様で出力の型はint64にする"
      ],
      "execution_count": 28,
      "outputs": []
    },
    {
      "cell_type": "markdown",
      "metadata": {
        "id": "CTQHo6f047dz"
      },
      "source": [
        "##Datasetの作成"
      ]
    },
    {
      "cell_type": "code",
      "metadata": {
        "id": "gn8kFFnQD_PU"
      },
      "source": [
        "# 下記の３種類を用いることでdatasetを作成することができる\n",
        "# 基本はこの３種類を使うことでdatasetを作成\n",
        "class Iris_Dataset(Dataset):\n",
        "    def __init__(self, x=None, y=None):\n",
        "        self.data = x\n",
        "        self.targets = y\n",
        "\n",
        "    # 長さを返す\n",
        "    def __len__(self):\n",
        "        return len(self.targets)\n",
        "\n",
        "    # batchの値を操作\n",
        "    def __getitem__(self, item):\n",
        "        x = self.data[item]\n",
        "        y = self.targets[item]\n",
        "        return x, y"
      ],
      "execution_count": 29,
      "outputs": []
    },
    {
      "cell_type": "code",
      "metadata": {
        "id": "wuiM8I8IEIzt"
      },
      "source": [
        "# 訓練データ\n",
        "train_ds = Iris_Dataset(x_train, y_train)\n",
        "train_loader = DataLoader(train_ds, batch_size=32, shuffle=True)\n",
        "# テストデータ\n",
        "test_ds = Iris_Dataset(x_test, y_test)\n",
        "test_loader = DataLoader(train_ds, batch_size=32, shuffle=True)"
      ],
      "execution_count": 30,
      "outputs": []
    },
    {
      "cell_type": "markdown",
      "metadata": {
        "id": "qcb7vzCU8xki"
      },
      "source": [
        "##ネットワークの実装"
      ]
    },
    {
      "cell_type": "code",
      "metadata": {
        "colab": {
          "base_uri": "https://localhost:8080/",
          "height": 219,
          "referenced_widgets": [
            "ffcae60b7ae64ab5aa81378e187f423d",
            "964bf8c98ab446f8ac390f487d894acf",
            "f14d499744c348db916401991844a9ef",
            "20e77e73b65a4f31a4878ec3c9924768",
            "62d3acea092745039c6fce0159a1ede2",
            "23ef19f170954da29d1f0799e650037c",
            "f1a4dc7b832e4093a7cc516abc501041",
            "fdfeca566f604729829fd295840c213b"
          ]
        },
        "id": "pvRudtnyBab-",
        "outputId": "07aacfca-b9bd-4854-fac7-04bc5dad727f"
      },
      "source": [
        "class Model(nn.Module):\n",
        "    def __init__(self, in_fitures: int, mid_fitures: int, n_class: int) -> None:\n",
        "        super(Model, self).__init__()\n",
        "        self.fc: nn.Module = nn.Sequential(\n",
        "            nn.Linear(in_fitures, mid_fitures),\n",
        "            nn.ReLU(),  # 活性化関数(ReLU関数)\n",
        "            nn.Linear(mid_fitures, mid_fitures)\n",
        "        )\n",
        "        self.clf = nn.Linear(mid_fitures, n_class)\n",
        "\n",
        "    def forward(self, x: torch.Tensor) -> torch.Tensor:\n",
        "        x = self.fc(x)\n",
        "        x = torch.relu_(x)\n",
        "        x = self.clf(x)\n",
        "        return x\n",
        "\n",
        "\n",
        "model = Model(4, 12, 3)\n",
        "print(model)\n",
        "optimizer = optim.Adam(model.parameters())  # 最適化アルゴリズム\n",
        "criterion = nn.CrossEntropyLoss()  # 損失関数\n",
        "\n",
        "for epoch in tqdm(range(100)):\n",
        "    for batch in train_loader:\n",
        "        a, b = batch\n",
        "        optimizer.zero_grad()\n",
        "        out = model(a)\n",
        "        loss = criterion(out, b)\n",
        "        loss.backward()\n",
        "        optimizer.step()\n",
        "print(loss.detach().item())"
      ],
      "execution_count": 31,
      "outputs": [
        {
          "output_type": "stream",
          "text": [
            "Model(\n",
            "  (fc): Sequential(\n",
            "    (0): Linear(in_features=4, out_features=12, bias=True)\n",
            "    (1): ReLU()\n",
            "    (2): Linear(in_features=12, out_features=12, bias=True)\n",
            "  )\n",
            "  (clf): Linear(in_features=12, out_features=3, bias=True)\n",
            ")\n"
          ],
          "name": "stdout"
        },
        {
          "output_type": "display_data",
          "data": {
            "application/vnd.jupyter.widget-view+json": {
              "model_id": "ffcae60b7ae64ab5aa81378e187f423d",
              "version_minor": 0,
              "version_major": 2
            },
            "text/plain": [
              "HBox(children=(FloatProgress(value=0.0), HTML(value='')))"
            ]
          },
          "metadata": {
            "tags": []
          }
        },
        {
          "output_type": "stream",
          "text": [
            "\n",
            "0.19601209461688995\n"
          ],
          "name": "stdout"
        }
      ]
    },
    {
      "cell_type": "markdown",
      "metadata": {
        "id": "HTyyHFIB9aIW"
      },
      "source": [
        "##ネットワークの精度"
      ]
    },
    {
      "cell_type": "code",
      "metadata": {
        "colab": {
          "base_uri": "https://localhost:8080/"
        },
        "id": "YozzPTjTEfeX",
        "outputId": "177ec953-f2f3-440e-e4af-488c93a07487"
      },
      "source": [
        "result = model(x_test)\n",
        "predicted = torch.max(result, 1)[1]\n",
        "print(\"{:.2f}\".format(sum(p == t for p, t in zip(predicted, y_test)) / len(x_test)))"
      ],
      "execution_count": 32,
      "outputs": [
        {
          "output_type": "stream",
          "text": [
            "1.00\n"
          ],
          "name": "stdout"
        }
      ]
    }
  ]
}