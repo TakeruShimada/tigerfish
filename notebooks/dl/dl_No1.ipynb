{
  "nbformat": 4,
  "nbformat_minor": 0,
  "metadata": {
    "colab": {
      "name": "DL _No1.ipynb",
      "provenance": [],
      "toc_visible": true,
      "authorship_tag": "ABX9TyNIsuy0nuKN1Q2y7hT2CcLV",
      "include_colab_link": true
    },
    "kernelspec": {
      "name": "python3",
      "display_name": "Python 3"
    }
  },
  "cells": [
    {
      "cell_type": "markdown",
      "metadata": {
        "id": "view-in-github",
        "colab_type": "text"
      },
      "source": [
        "<a href=\"https://colab.research.google.com/github/TakeruShimada/tigerfish/blob/master/notebooks/dl/dl_No1.ipynb\" target=\"_parent\"><img src=\"https://colab.research.google.com/assets/colab-badge.svg\" alt=\"Open In Colab\"/></a>"
      ]
    },
    {
      "cell_type": "markdown",
      "metadata": {
        "id": "B6U_sk3C_rY2"
      },
      "source": [
        "#論理ゲートの実装"
      ]
    },
    {
      "cell_type": "markdown",
      "metadata": {
        "id": "oZxMAZKE4hqU"
      },
      "source": [
        "##AND"
      ]
    },
    {
      "cell_type": "code",
      "metadata": {
        "id": "JczQ2LAoAhsV"
      },
      "source": [
        "import numpy as np"
      ],
      "execution_count": 11,
      "outputs": []
    },
    {
      "cell_type": "code",
      "metadata": {
        "id": "Ul6QFa9W17wj"
      },
      "source": [
        "# ANDゲート\n",
        "def AND(x1, x2):\n",
        "    x = np.array([x1, x2])\n",
        "    w = np.array([0.5, 0.5])\n",
        "    b = -0.7\n",
        "    tmp = np.sum(w * x) + b\n",
        "    if tmp <= 0:\n",
        "        return 0\n",
        "    else:\n",
        "        return 1"
      ],
      "execution_count": 18,
      "outputs": []
    },
    {
      "cell_type": "code",
      "metadata": {
        "colab": {
          "base_uri": "https://localhost:8080/"
        },
        "id": "zBk3CSM62eAL",
        "outputId": "42dc3d80-fa0c-4713-cb26-e5a662b1502f"
      },
      "source": [
        "# ANDゲートの出力確認\n",
        "print(AND(0, 0))\n",
        "print(AND(1, 0))\n",
        "print(AND(0, 1))\n",
        "print(AND(1, 1))"
      ],
      "execution_count": 19,
      "outputs": [
        {
          "output_type": "stream",
          "text": [
            "0\n",
            "0\n",
            "0\n",
            "1\n"
          ],
          "name": "stdout"
        }
      ]
    },
    {
      "cell_type": "markdown",
      "metadata": {
        "id": "Nx6IEbCzAlbk"
      },
      "source": [
        "##NAND"
      ]
    },
    {
      "cell_type": "code",
      "metadata": {
        "id": "fj6pEisQ_1bt"
      },
      "source": [
        "# NANDゲート\n",
        "def NAND(x1, x2):\n",
        "    x = np.array([x1, x2])\n",
        "    w = np.array([-0.5, -0.5])\n",
        "    b = 0.7\n",
        "    tmp = np.sum(w * x) + b\n",
        "    if tmp <= 0:\n",
        "        return 0\n",
        "    else:\n",
        "        return 1"
      ],
      "execution_count": 13,
      "outputs": []
    },
    {
      "cell_type": "markdown",
      "metadata": {
        "id": "rD36aSuVA2IX"
      },
      "source": [
        "##OR"
      ]
    },
    {
      "cell_type": "code",
      "metadata": {
        "id": "8zSwpF-9AxRw"
      },
      "source": [
        "# ORゲート\n",
        "def OR(x1, x2):\n",
        "    x = np.array([x1, x2])\n",
        "    w = np.array([0.5, 0.5])\n",
        "    b = -0.2\n",
        "    tmp = np.sum(w*x) + b\n",
        "    if tmp <= 0:\n",
        "        return 0\n",
        "    else:\n",
        "        return 1"
      ],
      "execution_count": 20,
      "outputs": []
    },
    {
      "cell_type": "markdown",
      "metadata": {
        "id": "5aJVqBzlA-cH"
      },
      "source": [
        "##XOR"
      ]
    },
    {
      "cell_type": "code",
      "metadata": {
        "id": "vNUSLXhtA4Yb"
      },
      "source": [
        "# XORゲート\n",
        "def XOR(x1, x2):\n",
        "    s1 = NAND(x1, x2)\n",
        "    s2 = OR(x1, x2)\n",
        "    y = AND(s1, s2)\n",
        "    return y"
      ],
      "execution_count": 21,
      "outputs": []
    },
    {
      "cell_type": "markdown",
      "metadata": {
        "id": "B9Zp51mi4pAd"
      },
      "source": [
        "#IrisDatasetを使ってみる"
      ]
    },
    {
      "cell_type": "markdown",
      "metadata": {
        "id": "nDw1f6CUDj2X"
      },
      "source": [
        "##ライブラリのインポート"
      ]
    },
    {
      "cell_type": "code",
      "metadata": {
        "id": "6P8PlO1SBlld"
      },
      "source": [
        "import torch\n",
        "import torch.nn as nn\n",
        "import torch.optim as optim\n",
        "from torch.utils.data import Dataset, DataLoader\n",
        "from sklearn.datasets import load_iris\n",
        "from sklearn.model_selection import train_test_split\n",
        "from tqdm import tqdm"
      ],
      "execution_count": 42,
      "outputs": []
    },
    {
      "cell_type": "markdown",
      "metadata": {
        "id": "glDsd2Y2C-FZ"
      },
      "source": [
        "##データセットのロード"
      ]
    },
    {
      "cell_type": "code",
      "metadata": {
        "id": "DRQYk0rOB0vg"
      },
      "source": [
        "# データをロード\n",
        "iris = load_iris()\n",
        "# 訓練用データとテスト用データを分割\n",
        "x_train, x_test, y_train, y_test = train_test_split(iris[\"data\"], iris[\"target\"])\n",
        "\n",
        "# 訓練用データ\n",
        "x_train = torch.Tensor(x_train)\n",
        "y_train = torch.LongTensor(y_train)  # pytorchの仕様で出力の型はint64にする\n",
        "\n",
        "# テスト用データ\n",
        "x_test = torch.Tensor(x_test)\n",
        "y_test = torch.LongTensor(y_test)  # pytorchの仕様で出力の型はint64にする"
      ],
      "execution_count": 16,
      "outputs": []
    },
    {
      "cell_type": "markdown",
      "metadata": {
        "id": "CTQHo6f047dz"
      },
      "source": [
        "##Datasetの作成"
      ]
    },
    {
      "cell_type": "code",
      "metadata": {
        "id": "gn8kFFnQD_PU"
      },
      "source": [
        "# 下記の３種類を用いることでdatasetを作成することができる\n",
        "# 基本はこの３種類を使うことでdatasetを作成\n",
        "class Iris_Dataset(Dataset):\n",
        "    def __init__(self, x=None, y=None):\n",
        "        self.data = x\n",
        "        self.targets = y\n",
        "\n",
        "    # 長さを返す\n",
        "    def __len__(self):\n",
        "        return len(self.targets)\n",
        "\n",
        "    # batchの値を操作\n",
        "    def __getitem__(self, item):\n",
        "        x = self.data[item]\n",
        "        y = self.targets[item]\n",
        "        return x, y"
      ],
      "execution_count": 17,
      "outputs": []
    },
    {
      "cell_type": "code",
      "metadata": {
        "id": "wuiM8I8IEIzt"
      },
      "source": [
        "# 訓練データ\n",
        "train_ds = Iris_Dataset(x_train, y_train)\n",
        "train_loader = DataLoader(train_ds, batch_size=32, shuffle=True)\n",
        "# テストデータ\n",
        "test_ds = Iris_Dataset(x_test, y_test)\n",
        "test_loader = DataLoader(train_ds, batch_size=32, shuffle=True)"
      ],
      "execution_count": 18,
      "outputs": []
    },
    {
      "cell_type": "markdown",
      "metadata": {
        "id": "qcb7vzCU8xki"
      },
      "source": [
        "##ネットワークの実装"
      ]
    },
    {
      "cell_type": "code",
      "metadata": {
        "colab": {
          "base_uri": "https://localhost:8080/"
        },
        "id": "pvRudtnyBab-",
        "outputId": "1a688d52-bc3a-437c-f1f2-5cf2e1b1e38d"
      },
      "source": [
        "class Model(nn.Module):\n",
        "    def __init__(self, in_fitures: int, mid_fitures: int, n_class: int) -> None:\n",
        "        super(Model, self).__init__()\n",
        "        self.fc: nn.Module = nn.Sequential(\n",
        "            nn.Linear(in_fitures, mid_fitures),\n",
        "            nn.ReLU(),  # 活性化関数(ReLU関数)\n",
        "            nn.Linear(mid_fitures, mid_fitures)\n",
        "        )\n",
        "        self.clf = nn.Linear(mid_fitures, n_class)\n",
        "\n",
        "    def forward(self, x: torch.Tensor) -> torch.Tensor:\n",
        "        x = self.fc(x)\n",
        "        x = torch.relu_(x)\n",
        "        x = self.clf(x)\n",
        "        return x\n",
        "\n",
        "\n",
        "model = Model(4, 12, 3)\n",
        "print(model)\n",
        "optimizer = optim.Adam(model.parameters())  # 最適化アルゴリズム\n",
        "criterion = nn.CrossEntropyLoss()  # 損失関数\n",
        "\n",
        "for epoch in tqdm(range(100)):\n",
        "    for batch in train_loader:\n",
        "        a, b = batch\n",
        "        optimizer.zero_grad()\n",
        "        out = model(a)\n",
        "        loss = criterion(out, b)\n",
        "        loss.backward()\n",
        "        optimizer.step()\n",
        "print(loss.detach().item())"
      ],
      "execution_count": 19,
      "outputs": [
        {
          "output_type": "stream",
          "text": [
            " 18%|█▊        | 18/100 [00:00<00:00, 174.39it/s]"
          ],
          "name": "stderr"
        },
        {
          "output_type": "stream",
          "text": [
            "Model(\n",
            "  (fc): Sequential(\n",
            "    (0): Linear(in_features=4, out_features=12, bias=True)\n",
            "    (1): ReLU()\n",
            "    (2): Linear(in_features=12, out_features=12, bias=True)\n",
            "  )\n",
            "  (clf): Linear(in_features=12, out_features=3, bias=True)\n",
            ")\n"
          ],
          "name": "stdout"
        },
        {
          "output_type": "stream",
          "text": [
            "100%|██████████| 100/100 [00:00<00:00, 177.93it/s]"
          ],
          "name": "stderr"
        },
        {
          "output_type": "stream",
          "text": [
            "0.20185284316539764\n"
          ],
          "name": "stdout"
        },
        {
          "output_type": "stream",
          "text": [
            "\n"
          ],
          "name": "stderr"
        }
      ]
    },
    {
      "cell_type": "markdown",
      "metadata": {
        "id": "HTyyHFIB9aIW"
      },
      "source": [
        "##ネットワークの精度"
      ]
    },
    {
      "cell_type": "code",
      "metadata": {
        "colab": {
          "base_uri": "https://localhost:8080/"
        },
        "id": "YozzPTjTEfeX",
        "outputId": "e2012a5c-b66c-4f74-a018-3e9155e5f0de"
      },
      "source": [
        "result = model(x_test)\n",
        "predicted = torch.max(result, 1)[1]\n",
        "print(\"{:.2f}\".format(sum(p == t for p, t in zip(predicted, y_test)) / len(x_test)))"
      ],
      "execution_count": 41,
      "outputs": [
        {
          "output_type": "stream",
          "text": [
            "0.97\n"
          ],
          "name": "stdout"
        }
      ]
    }
  ]
}