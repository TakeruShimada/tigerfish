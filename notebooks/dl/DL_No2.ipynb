{
  "nbformat": 4,
  "nbformat_minor": 0,
  "metadata": {
    "colab": {
      "name": "DL_No2.ipynb",
      "provenance": [],
      "collapsed_sections": [],
      "authorship_tag": "ABX9TyOxhzB/iIfBZ77FGqAGlxxs",
      "include_colab_link": true
    },
    "kernelspec": {
      "name": "python3",
      "display_name": "Python 3"
    },
    "widgets": {
      "application/vnd.jupyter.widget-state+json": {
        "a6d46fdf569946898bda958449549da1": {
          "model_module": "@jupyter-widgets/controls",
          "model_name": "HBoxModel",
          "state": {
            "_view_name": "HBoxView",
            "_dom_classes": [],
            "_model_name": "HBoxModel",
            "_view_module": "@jupyter-widgets/controls",
            "_model_module_version": "1.5.0",
            "_view_count": null,
            "_view_module_version": "1.5.0",
            "box_style": "",
            "layout": "IPY_MODEL_14863fb0c01045f68ab043d2d8aec75e",
            "_model_module": "@jupyter-widgets/controls",
            "children": [
              "IPY_MODEL_521b38d9eb0a445fb9b0021505f73053",
              "IPY_MODEL_b77647396c50458ebbce0b6e0d85b203"
            ]
          }
        },
        "14863fb0c01045f68ab043d2d8aec75e": {
          "model_module": "@jupyter-widgets/base",
          "model_name": "LayoutModel",
          "state": {
            "_view_name": "LayoutView",
            "grid_template_rows": null,
            "right": null,
            "justify_content": null,
            "_view_module": "@jupyter-widgets/base",
            "overflow": null,
            "_model_module_version": "1.2.0",
            "_view_count": null,
            "flex_flow": null,
            "width": null,
            "min_width": null,
            "border": null,
            "align_items": null,
            "bottom": null,
            "_model_module": "@jupyter-widgets/base",
            "top": null,
            "grid_column": null,
            "overflow_y": null,
            "overflow_x": null,
            "grid_auto_flow": null,
            "grid_area": null,
            "grid_template_columns": null,
            "flex": null,
            "_model_name": "LayoutModel",
            "justify_items": null,
            "grid_row": null,
            "max_height": null,
            "align_content": null,
            "visibility": null,
            "align_self": null,
            "height": null,
            "min_height": null,
            "padding": null,
            "grid_auto_rows": null,
            "grid_gap": null,
            "max_width": null,
            "order": null,
            "_view_module_version": "1.2.0",
            "grid_template_areas": null,
            "object_position": null,
            "object_fit": null,
            "grid_auto_columns": null,
            "margin": null,
            "display": null,
            "left": null
          }
        },
        "521b38d9eb0a445fb9b0021505f73053": {
          "model_module": "@jupyter-widgets/controls",
          "model_name": "FloatProgressModel",
          "state": {
            "_view_name": "ProgressView",
            "style": "IPY_MODEL_720942a119df42019c31ac1721caea3c",
            "_dom_classes": [],
            "description": "loss: 0.2849: 100%",
            "_model_name": "FloatProgressModel",
            "bar_style": "success",
            "max": 10,
            "_view_module": "@jupyter-widgets/controls",
            "_model_module_version": "1.5.0",
            "value": 10,
            "_view_count": null,
            "_view_module_version": "1.5.0",
            "orientation": "horizontal",
            "min": 0,
            "description_tooltip": null,
            "_model_module": "@jupyter-widgets/controls",
            "layout": "IPY_MODEL_957497376d8246b484e1ee2a256574f5"
          }
        },
        "b77647396c50458ebbce0b6e0d85b203": {
          "model_module": "@jupyter-widgets/controls",
          "model_name": "HTMLModel",
          "state": {
            "_view_name": "HTMLView",
            "style": "IPY_MODEL_521fcb68b52c4f03985fab9e7b33fe9e",
            "_dom_classes": [],
            "description": "",
            "_model_name": "HTMLModel",
            "placeholder": "​",
            "_view_module": "@jupyter-widgets/controls",
            "_model_module_version": "1.5.0",
            "value": " 10/10 [00:00&lt;00:00, 11.33it/s]",
            "_view_count": null,
            "_view_module_version": "1.5.0",
            "description_tooltip": null,
            "_model_module": "@jupyter-widgets/controls",
            "layout": "IPY_MODEL_b48065c6aa624d4ca55728e37740f44c"
          }
        },
        "720942a119df42019c31ac1721caea3c": {
          "model_module": "@jupyter-widgets/controls",
          "model_name": "ProgressStyleModel",
          "state": {
            "_view_name": "StyleView",
            "_model_name": "ProgressStyleModel",
            "description_width": "initial",
            "_view_module": "@jupyter-widgets/base",
            "_model_module_version": "1.5.0",
            "_view_count": null,
            "_view_module_version": "1.2.0",
            "bar_color": null,
            "_model_module": "@jupyter-widgets/controls"
          }
        },
        "957497376d8246b484e1ee2a256574f5": {
          "model_module": "@jupyter-widgets/base",
          "model_name": "LayoutModel",
          "state": {
            "_view_name": "LayoutView",
            "grid_template_rows": null,
            "right": null,
            "justify_content": null,
            "_view_module": "@jupyter-widgets/base",
            "overflow": null,
            "_model_module_version": "1.2.0",
            "_view_count": null,
            "flex_flow": null,
            "width": null,
            "min_width": null,
            "border": null,
            "align_items": null,
            "bottom": null,
            "_model_module": "@jupyter-widgets/base",
            "top": null,
            "grid_column": null,
            "overflow_y": null,
            "overflow_x": null,
            "grid_auto_flow": null,
            "grid_area": null,
            "grid_template_columns": null,
            "flex": null,
            "_model_name": "LayoutModel",
            "justify_items": null,
            "grid_row": null,
            "max_height": null,
            "align_content": null,
            "visibility": null,
            "align_self": null,
            "height": null,
            "min_height": null,
            "padding": null,
            "grid_auto_rows": null,
            "grid_gap": null,
            "max_width": null,
            "order": null,
            "_view_module_version": "1.2.0",
            "grid_template_areas": null,
            "object_position": null,
            "object_fit": null,
            "grid_auto_columns": null,
            "margin": null,
            "display": null,
            "left": null
          }
        },
        "521fcb68b52c4f03985fab9e7b33fe9e": {
          "model_module": "@jupyter-widgets/controls",
          "model_name": "DescriptionStyleModel",
          "state": {
            "_view_name": "StyleView",
            "_model_name": "DescriptionStyleModel",
            "description_width": "",
            "_view_module": "@jupyter-widgets/base",
            "_model_module_version": "1.5.0",
            "_view_count": null,
            "_view_module_version": "1.2.0",
            "_model_module": "@jupyter-widgets/controls"
          }
        },
        "b48065c6aa624d4ca55728e37740f44c": {
          "model_module": "@jupyter-widgets/base",
          "model_name": "LayoutModel",
          "state": {
            "_view_name": "LayoutView",
            "grid_template_rows": null,
            "right": null,
            "justify_content": null,
            "_view_module": "@jupyter-widgets/base",
            "overflow": null,
            "_model_module_version": "1.2.0",
            "_view_count": null,
            "flex_flow": null,
            "width": null,
            "min_width": null,
            "border": null,
            "align_items": null,
            "bottom": null,
            "_model_module": "@jupyter-widgets/base",
            "top": null,
            "grid_column": null,
            "overflow_y": null,
            "overflow_x": null,
            "grid_auto_flow": null,
            "grid_area": null,
            "grid_template_columns": null,
            "flex": null,
            "_model_name": "LayoutModel",
            "justify_items": null,
            "grid_row": null,
            "max_height": null,
            "align_content": null,
            "visibility": null,
            "align_self": null,
            "height": null,
            "min_height": null,
            "padding": null,
            "grid_auto_rows": null,
            "grid_gap": null,
            "max_width": null,
            "order": null,
            "_view_module_version": "1.2.0",
            "grid_template_areas": null,
            "object_position": null,
            "object_fit": null,
            "grid_auto_columns": null,
            "margin": null,
            "display": null,
            "left": null
          }
        }
      }
    }
  },
  "cells": [
    {
      "cell_type": "markdown",
      "metadata": {
        "id": "view-in-github",
        "colab_type": "text"
      },
      "source": [
        "<a href=\"https://colab.research.google.com/github/Minami5/tigerfish/blob/master/notebooks/dl/DL_No2.ipynb\" target=\"_parent\"><img src=\"https://colab.research.google.com/assets/colab-badge.svg\" alt=\"Open In Colab\"/></a>"
      ]
    },
    {
      "cell_type": "markdown",
      "metadata": {
        "id": "MN9Z3ehcWVSx"
      },
      "source": [
        "# データセットをダウンロードして中身を確認\n",
        "\n"
      ]
    },
    {
      "cell_type": "code",
      "metadata": {
        "colab": {
          "base_uri": "https://localhost:8080/"
        },
        "id": "YN09Vpc1Mwue",
        "outputId": "2b608a62-4d0c-4545-fd74-fcb55729dd3a"
      },
      "source": [
        "!curl -O https://raw.githubusercontent.com/khirotaka/tigerfish/master/utils/support.py"
      ],
      "execution_count": 1,
      "outputs": [
        {
          "output_type": "stream",
          "text": [
            "  % Total    % Received % Xferd  Average Speed   Time    Time     Time  Current\n",
            "                                 Dload  Upload   Total   Spent    Left  Speed\n",
            "\r  0     0    0     0    0     0      0      0 --:--:-- --:--:-- --:--:--     0\r100   588  100   588    0     0   4200      0 --:--:-- --:--:-- --:--:--  4200\n"
          ],
          "name": "stdout"
        }
      ]
    },
    {
      "cell_type": "code",
      "metadata": {
        "id": "5vMossGhX9DX"
      },
      "source": [
        "import support"
      ],
      "execution_count": 2,
      "outputs": []
    },
    {
      "cell_type": "code",
      "metadata": {
        "id": "CG4_BdEkZFxG"
      },
      "source": [
        "(x_train, y_train), x_test = support.fetch_titanic()  # 訓練用データとテスト用データに分割"
      ],
      "execution_count": 3,
      "outputs": []
    },
    {
      "cell_type": "code",
      "metadata": {
        "colab": {
          "base_uri": "https://localhost:8080/"
        },
        "id": "w93S5_7UaSC6",
        "outputId": "298eeee7-28da-4c87-cf72-e1dac6c07c52"
      },
      "source": [
        "x_train.info()"
      ],
      "execution_count": 4,
      "outputs": [
        {
          "output_type": "stream",
          "text": [
            "<class 'pandas.core.frame.DataFrame'>\n",
            "Int64Index: 623 entries, 857 to 684\n",
            "Data columns (total 14 columns):\n",
            " #   Column       Non-Null Count  Dtype   \n",
            "---  ------       --------------  -----   \n",
            " 0   pclass       623 non-null    int64   \n",
            " 1   sex          623 non-null    object  \n",
            " 2   age          502 non-null    float64 \n",
            " 3   sibsp        623 non-null    int64   \n",
            " 4   parch        623 non-null    int64   \n",
            " 5   fare         623 non-null    float64 \n",
            " 6   embarked     621 non-null    object  \n",
            " 7   class        623 non-null    category\n",
            " 8   who          623 non-null    object  \n",
            " 9   adult_male   623 non-null    bool    \n",
            " 10  deck         151 non-null    category\n",
            " 11  embark_town  621 non-null    object  \n",
            " 12  alive        623 non-null    object  \n",
            " 13  alone        623 non-null    bool    \n",
            "dtypes: bool(2), category(2), float64(2), int64(3), object(5)\n",
            "memory usage: 56.4+ KB\n"
          ],
          "name": "stdout"
        }
      ]
    },
    {
      "cell_type": "code",
      "metadata": {
        "colab": {
          "base_uri": "https://localhost:8080/",
          "height": 204
        },
        "id": "dqWsrHZiZnj7",
        "outputId": "19072e64-9376-48f9-a656-6bd39b99497a"
      },
      "source": [
        "x_train.head()"
      ],
      "execution_count": 5,
      "outputs": [
        {
          "output_type": "execute_result",
          "data": {
            "text/html": [
              "<div>\n",
              "<style scoped>\n",
              "    .dataframe tbody tr th:only-of-type {\n",
              "        vertical-align: middle;\n",
              "    }\n",
              "\n",
              "    .dataframe tbody tr th {\n",
              "        vertical-align: top;\n",
              "    }\n",
              "\n",
              "    .dataframe thead th {\n",
              "        text-align: right;\n",
              "    }\n",
              "</style>\n",
              "<table border=\"1\" class=\"dataframe\">\n",
              "  <thead>\n",
              "    <tr style=\"text-align: right;\">\n",
              "      <th></th>\n",
              "      <th>pclass</th>\n",
              "      <th>sex</th>\n",
              "      <th>age</th>\n",
              "      <th>sibsp</th>\n",
              "      <th>parch</th>\n",
              "      <th>fare</th>\n",
              "      <th>embarked</th>\n",
              "      <th>class</th>\n",
              "      <th>who</th>\n",
              "      <th>adult_male</th>\n",
              "      <th>deck</th>\n",
              "      <th>embark_town</th>\n",
              "      <th>alive</th>\n",
              "      <th>alone</th>\n",
              "    </tr>\n",
              "  </thead>\n",
              "  <tbody>\n",
              "    <tr>\n",
              "      <th>857</th>\n",
              "      <td>1</td>\n",
              "      <td>male</td>\n",
              "      <td>51.0</td>\n",
              "      <td>0</td>\n",
              "      <td>0</td>\n",
              "      <td>26.5500</td>\n",
              "      <td>S</td>\n",
              "      <td>First</td>\n",
              "      <td>man</td>\n",
              "      <td>True</td>\n",
              "      <td>E</td>\n",
              "      <td>Southampton</td>\n",
              "      <td>yes</td>\n",
              "      <td>True</td>\n",
              "    </tr>\n",
              "    <tr>\n",
              "      <th>52</th>\n",
              "      <td>1</td>\n",
              "      <td>female</td>\n",
              "      <td>49.0</td>\n",
              "      <td>1</td>\n",
              "      <td>0</td>\n",
              "      <td>76.7292</td>\n",
              "      <td>C</td>\n",
              "      <td>First</td>\n",
              "      <td>woman</td>\n",
              "      <td>False</td>\n",
              "      <td>D</td>\n",
              "      <td>Cherbourg</td>\n",
              "      <td>yes</td>\n",
              "      <td>False</td>\n",
              "    </tr>\n",
              "    <tr>\n",
              "      <th>386</th>\n",
              "      <td>3</td>\n",
              "      <td>male</td>\n",
              "      <td>1.0</td>\n",
              "      <td>5</td>\n",
              "      <td>2</td>\n",
              "      <td>46.9000</td>\n",
              "      <td>S</td>\n",
              "      <td>Third</td>\n",
              "      <td>child</td>\n",
              "      <td>False</td>\n",
              "      <td>NaN</td>\n",
              "      <td>Southampton</td>\n",
              "      <td>no</td>\n",
              "      <td>False</td>\n",
              "    </tr>\n",
              "    <tr>\n",
              "      <th>124</th>\n",
              "      <td>1</td>\n",
              "      <td>male</td>\n",
              "      <td>54.0</td>\n",
              "      <td>0</td>\n",
              "      <td>1</td>\n",
              "      <td>77.2875</td>\n",
              "      <td>S</td>\n",
              "      <td>First</td>\n",
              "      <td>man</td>\n",
              "      <td>True</td>\n",
              "      <td>D</td>\n",
              "      <td>Southampton</td>\n",
              "      <td>no</td>\n",
              "      <td>False</td>\n",
              "    </tr>\n",
              "    <tr>\n",
              "      <th>578</th>\n",
              "      <td>3</td>\n",
              "      <td>female</td>\n",
              "      <td>NaN</td>\n",
              "      <td>1</td>\n",
              "      <td>0</td>\n",
              "      <td>14.4583</td>\n",
              "      <td>C</td>\n",
              "      <td>Third</td>\n",
              "      <td>woman</td>\n",
              "      <td>False</td>\n",
              "      <td>NaN</td>\n",
              "      <td>Cherbourg</td>\n",
              "      <td>no</td>\n",
              "      <td>False</td>\n",
              "    </tr>\n",
              "  </tbody>\n",
              "</table>\n",
              "</div>"
            ],
            "text/plain": [
              "     pclass     sex   age  sibsp  ...  deck  embark_town alive  alone\n",
              "857       1    male  51.0      0  ...     E  Southampton   yes   True\n",
              "52        1  female  49.0      1  ...     D    Cherbourg   yes  False\n",
              "386       3    male   1.0      5  ...   NaN  Southampton    no  False\n",
              "124       1    male  54.0      0  ...     D  Southampton    no  False\n",
              "578       3  female   NaN      1  ...   NaN    Cherbourg    no  False\n",
              "\n",
              "[5 rows x 14 columns]"
            ]
          },
          "metadata": {
            "tags": []
          },
          "execution_count": 5
        }
      ]
    },
    {
      "cell_type": "code",
      "metadata": {
        "colab": {
          "base_uri": "https://localhost:8080/"
        },
        "id": "JKO3_efHjOW0",
        "outputId": "c7db3911-8dbf-4ad2-f82f-0a9a9ef10b1b"
      },
      "source": [
        "x_train.isnull().sum()"
      ],
      "execution_count": 6,
      "outputs": [
        {
          "output_type": "execute_result",
          "data": {
            "text/plain": [
              "pclass           0\n",
              "sex              0\n",
              "age            121\n",
              "sibsp            0\n",
              "parch            0\n",
              "fare             0\n",
              "embarked         2\n",
              "class            0\n",
              "who              0\n",
              "adult_male       0\n",
              "deck           472\n",
              "embark_town      2\n",
              "alive            0\n",
              "alone            0\n",
              "dtype: int64"
            ]
          },
          "metadata": {
            "tags": []
          },
          "execution_count": 6
        }
      ]
    },
    {
      "cell_type": "markdown",
      "metadata": {
        "id": "3eEGhKTMXN9w"
      },
      "source": [
        "# データの前処理"
      ]
    },
    {
      "cell_type": "code",
      "metadata": {
        "id": "tv26r2ihjaB2"
      },
      "source": [
        "x_train = x_train.drop([\"age\", \"embarked\", \"deck\", \"embark_town\"], axis=1)"
      ],
      "execution_count": 7,
      "outputs": []
    },
    {
      "cell_type": "code",
      "metadata": {
        "colab": {
          "base_uri": "https://localhost:8080/"
        },
        "id": "pUcVXmKyj87j",
        "outputId": "dfd7be49-d476-462d-f83e-75d43d673539"
      },
      "source": [
        "x_train.isnull().sum()"
      ],
      "execution_count": 8,
      "outputs": [
        {
          "output_type": "execute_result",
          "data": {
            "text/plain": [
              "pclass        0\n",
              "sex           0\n",
              "sibsp         0\n",
              "parch         0\n",
              "fare          0\n",
              "class         0\n",
              "who           0\n",
              "adult_male    0\n",
              "alive         0\n",
              "alone         0\n",
              "dtype: int64"
            ]
          },
          "metadata": {
            "tags": []
          },
          "execution_count": 8
        }
      ]
    },
    {
      "cell_type": "code",
      "metadata": {
        "id": "iiA8Njm_kK7F"
      },
      "source": [
        "import pandas as pd"
      ],
      "execution_count": 9,
      "outputs": []
    },
    {
      "cell_type": "code",
      "metadata": {
        "id": "uvvKnARSkOKP"
      },
      "source": [
        "x_train = pd.get_dummies(x_train)   # 文字列で別れたデータをone-hot表現で変換"
      ],
      "execution_count": 10,
      "outputs": []
    },
    {
      "cell_type": "code",
      "metadata": {
        "colab": {
          "base_uri": "https://localhost:8080/",
          "height": 204
        },
        "id": "MaTa5BRykYk6",
        "outputId": "d0c797be-a0e8-4598-f4e0-56884ceb18fd"
      },
      "source": [
        "x_train.head()"
      ],
      "execution_count": 11,
      "outputs": [
        {
          "output_type": "execute_result",
          "data": {
            "text/html": [
              "<div>\n",
              "<style scoped>\n",
              "    .dataframe tbody tr th:only-of-type {\n",
              "        vertical-align: middle;\n",
              "    }\n",
              "\n",
              "    .dataframe tbody tr th {\n",
              "        vertical-align: top;\n",
              "    }\n",
              "\n",
              "    .dataframe thead th {\n",
              "        text-align: right;\n",
              "    }\n",
              "</style>\n",
              "<table border=\"1\" class=\"dataframe\">\n",
              "  <thead>\n",
              "    <tr style=\"text-align: right;\">\n",
              "      <th></th>\n",
              "      <th>pclass</th>\n",
              "      <th>sibsp</th>\n",
              "      <th>parch</th>\n",
              "      <th>fare</th>\n",
              "      <th>adult_male</th>\n",
              "      <th>alone</th>\n",
              "      <th>sex_female</th>\n",
              "      <th>sex_male</th>\n",
              "      <th>class_First</th>\n",
              "      <th>class_Second</th>\n",
              "      <th>class_Third</th>\n",
              "      <th>who_child</th>\n",
              "      <th>who_man</th>\n",
              "      <th>who_woman</th>\n",
              "      <th>alive_no</th>\n",
              "      <th>alive_yes</th>\n",
              "    </tr>\n",
              "  </thead>\n",
              "  <tbody>\n",
              "    <tr>\n",
              "      <th>857</th>\n",
              "      <td>1</td>\n",
              "      <td>0</td>\n",
              "      <td>0</td>\n",
              "      <td>26.5500</td>\n",
              "      <td>True</td>\n",
              "      <td>True</td>\n",
              "      <td>0</td>\n",
              "      <td>1</td>\n",
              "      <td>1</td>\n",
              "      <td>0</td>\n",
              "      <td>0</td>\n",
              "      <td>0</td>\n",
              "      <td>1</td>\n",
              "      <td>0</td>\n",
              "      <td>0</td>\n",
              "      <td>1</td>\n",
              "    </tr>\n",
              "    <tr>\n",
              "      <th>52</th>\n",
              "      <td>1</td>\n",
              "      <td>1</td>\n",
              "      <td>0</td>\n",
              "      <td>76.7292</td>\n",
              "      <td>False</td>\n",
              "      <td>False</td>\n",
              "      <td>1</td>\n",
              "      <td>0</td>\n",
              "      <td>1</td>\n",
              "      <td>0</td>\n",
              "      <td>0</td>\n",
              "      <td>0</td>\n",
              "      <td>0</td>\n",
              "      <td>1</td>\n",
              "      <td>0</td>\n",
              "      <td>1</td>\n",
              "    </tr>\n",
              "    <tr>\n",
              "      <th>386</th>\n",
              "      <td>3</td>\n",
              "      <td>5</td>\n",
              "      <td>2</td>\n",
              "      <td>46.9000</td>\n",
              "      <td>False</td>\n",
              "      <td>False</td>\n",
              "      <td>0</td>\n",
              "      <td>1</td>\n",
              "      <td>0</td>\n",
              "      <td>0</td>\n",
              "      <td>1</td>\n",
              "      <td>1</td>\n",
              "      <td>0</td>\n",
              "      <td>0</td>\n",
              "      <td>1</td>\n",
              "      <td>0</td>\n",
              "    </tr>\n",
              "    <tr>\n",
              "      <th>124</th>\n",
              "      <td>1</td>\n",
              "      <td>0</td>\n",
              "      <td>1</td>\n",
              "      <td>77.2875</td>\n",
              "      <td>True</td>\n",
              "      <td>False</td>\n",
              "      <td>0</td>\n",
              "      <td>1</td>\n",
              "      <td>1</td>\n",
              "      <td>0</td>\n",
              "      <td>0</td>\n",
              "      <td>0</td>\n",
              "      <td>1</td>\n",
              "      <td>0</td>\n",
              "      <td>1</td>\n",
              "      <td>0</td>\n",
              "    </tr>\n",
              "    <tr>\n",
              "      <th>578</th>\n",
              "      <td>3</td>\n",
              "      <td>1</td>\n",
              "      <td>0</td>\n",
              "      <td>14.4583</td>\n",
              "      <td>False</td>\n",
              "      <td>False</td>\n",
              "      <td>1</td>\n",
              "      <td>0</td>\n",
              "      <td>0</td>\n",
              "      <td>0</td>\n",
              "      <td>1</td>\n",
              "      <td>0</td>\n",
              "      <td>0</td>\n",
              "      <td>1</td>\n",
              "      <td>1</td>\n",
              "      <td>0</td>\n",
              "    </tr>\n",
              "  </tbody>\n",
              "</table>\n",
              "</div>"
            ],
            "text/plain": [
              "     pclass  sibsp  parch     fare  ...  who_man  who_woman  alive_no  alive_yes\n",
              "857       1      0      0  26.5500  ...        1          0         0          1\n",
              "52        1      1      0  76.7292  ...        0          1         0          1\n",
              "386       3      5      2  46.9000  ...        0          0         1          0\n",
              "124       1      0      1  77.2875  ...        1          0         1          0\n",
              "578       3      1      0  14.4583  ...        0          1         1          0\n",
              "\n",
              "[5 rows x 16 columns]"
            ]
          },
          "metadata": {
            "tags": []
          },
          "execution_count": 11
        }
      ]
    },
    {
      "cell_type": "markdown",
      "metadata": {
        "id": "ptIPV1WvXbxK"
      },
      "source": [
        "# PyTorchライブラリのインポート"
      ]
    },
    {
      "cell_type": "code",
      "metadata": {
        "id": "MzoMmmEtZLlO"
      },
      "source": [
        "import torch\n",
        "import torch.nn as nn\n",
        "import torch.optim as optim\n",
        "from torch.utils.data import Dataset, DataLoader\n",
        "import numpy as np"
      ],
      "execution_count": 12,
      "outputs": []
    },
    {
      "cell_type": "code",
      "metadata": {
        "colab": {
          "base_uri": "https://localhost:8080/"
        },
        "id": "G_fJlib8ZQo2",
        "outputId": "74086c94-71c1-48e4-c70a-73e72a9e66db"
      },
      "source": [
        "data = torch.tensor(x_train.values.astype(np.float32))\n",
        "print(data[:5])\n",
        "print(data.shape)\n",
        "print(\"-\" * 50)\n",
        "targets = torch.tensor(y_train.values.astype(np.int64))\n",
        "print(targets[:5])\n",
        "print(targets.shape)"
      ],
      "execution_count": 13,
      "outputs": [
        {
          "output_type": "stream",
          "text": [
            "tensor([[ 1.0000,  0.0000,  0.0000, 26.5500,  1.0000,  1.0000,  0.0000,  1.0000,\n",
            "          1.0000,  0.0000,  0.0000,  0.0000,  1.0000,  0.0000,  0.0000,  1.0000],\n",
            "        [ 1.0000,  1.0000,  0.0000, 76.7292,  0.0000,  0.0000,  1.0000,  0.0000,\n",
            "          1.0000,  0.0000,  0.0000,  0.0000,  0.0000,  1.0000,  0.0000,  1.0000],\n",
            "        [ 3.0000,  5.0000,  2.0000, 46.9000,  0.0000,  0.0000,  0.0000,  1.0000,\n",
            "          0.0000,  0.0000,  1.0000,  1.0000,  0.0000,  0.0000,  1.0000,  0.0000],\n",
            "        [ 1.0000,  0.0000,  1.0000, 77.2875,  1.0000,  0.0000,  0.0000,  1.0000,\n",
            "          1.0000,  0.0000,  0.0000,  0.0000,  1.0000,  0.0000,  1.0000,  0.0000],\n",
            "        [ 3.0000,  1.0000,  0.0000, 14.4583,  0.0000,  0.0000,  1.0000,  0.0000,\n",
            "          0.0000,  0.0000,  1.0000,  0.0000,  0.0000,  1.0000,  1.0000,  0.0000]])\n",
            "torch.Size([623, 16])\n",
            "--------------------------------------------------\n",
            "tensor([1, 1, 0, 0, 0])\n",
            "torch.Size([623])\n"
          ],
          "name": "stdout"
        }
      ]
    },
    {
      "cell_type": "markdown",
      "metadata": {
        "id": "J13NN5qPYaqt"
      },
      "source": [
        "# データセットの作成"
      ]
    },
    {
      "cell_type": "code",
      "metadata": {
        "id": "iJA0RVZCbXsk"
      },
      "source": [
        "class TitanicDataset(Dataset):\n",
        "  def __init__(self, x, y):\n",
        "    self.data = x\n",
        "    self.targets = y\n",
        "\n",
        "  def __len__(self):\n",
        "    return len(self.targets)\n",
        "\n",
        "  def __getitem__(self, item):\n",
        "    x = self.data[item]\n",
        "    y = self.targets[item]\n",
        "    return x, y"
      ],
      "execution_count": 14,
      "outputs": []
    },
    {
      "cell_type": "code",
      "metadata": {
        "id": "LGlgU3AwFsCa"
      },
      "source": [
        "train_ds = TitanicDataset(data, targets)\n",
        "train_loader = DataLoader(train_ds, batch_size=32, shuffle=True)"
      ],
      "execution_count": 15,
      "outputs": []
    },
    {
      "cell_type": "markdown",
      "metadata": {
        "id": "ui6-aBoFYe2F"
      },
      "source": [
        "# ネットワークの実装"
      ]
    },
    {
      "cell_type": "code",
      "metadata": {
        "id": "-Ja64qznGfqr"
      },
      "source": [
        "class Model(nn.Module):\n",
        "  def __init__(self, in_features, mid_features, n_class):\n",
        "    super().__init__()\n",
        "  def forward(self, x):"
      ],
      "execution_count": 24,
      "outputs": []
    },
    {
      "cell_type": "markdown",
      "metadata": {
        "id": "-Q9POQ_qo-Hp"
      },
      "source": [
        "# モデルの学習"
      ]
    },
    {
      "cell_type": "code",
      "metadata": {
        "id": "N5ycxRoGctFL"
      },
      "source": [
        "model = Model(16, 10, 2)    # インスタンスを生成\n",
        "optimizier = optim.Adam(model.parameters())   # 最適化アルゴリズム\n",
        "criterion = nn.CrossEntropyLoss()   # 損失関数"
      ],
      "execution_count": 25,
      "outputs": []
    },
    {
      "cell_type": "code",
      "metadata": {
        "id": "kuGdeTLiol4J"
      },
      "source": [
        "from tqdm.auto import tqdm"
      ],
      "execution_count": 26,
      "outputs": []
    },
    {
      "cell_type": "code",
      "metadata": {
        "id": "PbrdAPqTphQK",
        "colab": {
          "base_uri": "https://localhost:8080/",
          "height": 66,
          "referenced_widgets": [
            "a6d46fdf569946898bda958449549da1",
            "14863fb0c01045f68ab043d2d8aec75e",
            "521b38d9eb0a445fb9b0021505f73053",
            "b77647396c50458ebbce0b6e0d85b203",
            "720942a119df42019c31ac1721caea3c",
            "957497376d8246b484e1ee2a256574f5",
            "521fcb68b52c4f03985fab9e7b33fe9e",
            "b48065c6aa624d4ca55728e37740f44c"
          ]
        },
        "outputId": "a9e2cb01-394c-4973-a269-431415a640d6"
      },
      "source": [
        "epochs = 10\n",
        "\n",
        "with tqdm(total=epochs) as pbar:\n",
        "  for epoch in range(epochs):\n",
        "    for batch in train_loader:\n",
        "      a, b = batch\n",
        "      optimizier.zero_grad()\n",
        "      out = model(a)\n",
        "      loss = criterion(out, b)\n",
        "      loss.backward()\n",
        "      optimizier.step()\n",
        "      pbar.set_description(\"loss: {:.4f}\".format(loss.detach().item()))\n",
        "    pbar.update(1)"
      ],
      "execution_count": 27,
      "outputs": [
        {
          "output_type": "display_data",
          "data": {
            "application/vnd.jupyter.widget-view+json": {
              "model_id": "a6d46fdf569946898bda958449549da1",
              "version_minor": 0,
              "version_major": 2
            },
            "text/plain": [
              "HBox(children=(FloatProgress(value=0.0, max=10.0), HTML(value='')))"
            ]
          },
          "metadata": {
            "tags": []
          }
        },
        {
          "output_type": "stream",
          "text": [
            "\n"
          ],
          "name": "stdout"
        }
      ]
    },
    {
      "cell_type": "markdown",
      "metadata": {
        "id": "-8wNwP5KZbJ8"
      },
      "source": [
        "# モデルを評価"
      ]
    },
    {
      "cell_type": "code",
      "metadata": {
        "id": "FKRda2DftyZc"
      },
      "source": [
        "x_test = x_test.drop([\"age\", \"embarked\", \"deck\", \"embark_town\"], axis=1)\n",
        "x_test = pd.get_dummies(x_test)\n",
        "x_test = torch.tensor(x_test.values.astype(np.float32))\n",
        "with torch.no_grad():\n",
        "  result = model(x_test)\n",
        "  predicts = torch.max(result, 1)[1]"
      ],
      "execution_count": 28,
      "outputs": []
    },
    {
      "cell_type": "code",
      "metadata": {
        "id": "2ObtZH3HuYKY",
        "colab": {
          "base_uri": "https://localhost:8080/"
        },
        "outputId": "59c1e4f3-d61c-4093-b0b0-cf57b32e7d98"
      },
      "source": [
        "support.calc_score(predicts)    # f1_score, 最大値１、最小値０"
      ],
      "execution_count": 29,
      "outputs": [
        {
          "output_type": "execute_result",
          "data": {
            "text/plain": [
              "0.8950276243093923"
            ]
          },
          "metadata": {
            "tags": []
          },
          "execution_count": 29
        }
      ]
    }
  ]
}